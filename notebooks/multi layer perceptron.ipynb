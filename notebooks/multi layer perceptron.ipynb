{
 "cells": [
  {
   "cell_type": "code",
   "execution_count": 1,
   "metadata": {},
   "outputs": [],
   "source": [
    "words = open(\"names.txt\", 'r').read().splitlines()"
   ]
  },
  {
   "cell_type": "code",
   "execution_count": 2,
   "metadata": {},
   "outputs": [],
   "source": [
    "special_char = '.'\n",
    "different_chars_in_dataset = sorted(list(set(''.join(words))))\n",
    "mapping_char_to_index = {s:i+1 for i,s in enumerate(different_chars_in_dataset)}\n",
    "mapping_char_to_index[special_char] = 0\n",
    "mapping_index_to_char = {i:s for s,i in mapping_char_to_index.items()}"
   ]
  },
  {
   "cell_type": "code",
   "execution_count": 3,
   "metadata": {},
   "outputs": [],
   "source": [
    "import torch\n",
    "import torch.nn.functional as F\n",
    "\n",
    "X, Y = [], []\n",
    "block_size = 3\n",
    "for w in words:\n",
    "    context = [0] * block_size\n",
    "    for ch in w + '.':\n",
    "        index_ch = mapping_char_to_index[ch]\n",
    "        X.append(context)\n",
    "        Y.append(index_ch)\n",
    "        context = context[1:] + [index_ch]\n",
    "\n",
    "X = torch.tensor(X)\n",
    "Y = torch.tensor(Y)"
   ]
  },
  {
   "cell_type": "code",
   "execution_count": 4,
   "metadata": {},
   "outputs": [
    {
     "data": {
      "text/plain": [
       "tensor([[ 0,  0,  0],\n",
       "        [ 0,  0,  5],\n",
       "        [ 0,  5, 13],\n",
       "        [ 5, 13, 13],\n",
       "        [13, 13,  1]])"
      ]
     },
     "execution_count": 4,
     "metadata": {},
     "output_type": "execute_result"
    }
   ],
   "source": [
    "X[0:5]"
   ]
  },
  {
   "cell_type": "code",
   "execution_count": 5,
   "metadata": {},
   "outputs": [
    {
     "data": {
      "text/plain": [
       "tensor([ 5, 13, 13,  1,  0])"
      ]
     },
     "execution_count": 5,
     "metadata": {},
     "output_type": "execute_result"
    }
   ],
   "source": [
    "Y[0:5]"
   ]
  },
  {
   "cell_type": "code",
   "execution_count": 6,
   "metadata": {},
   "outputs": [
    {
     "data": {
      "text/plain": [
       "(torch.Size([228146, 3]), torch.Size([228146]))"
      ]
     },
     "execution_count": 6,
     "metadata": {},
     "output_type": "execute_result"
    }
   ],
   "source": [
    "X.shape,Y.shape"
   ]
  },
  {
   "cell_type": "code",
   "execution_count": 7,
   "metadata": {},
   "outputs": [],
   "source": [
    "# Building embedding tables\n",
    "C = torch.randn((27, 2))"
   ]
  },
  {
   "cell_type": "code",
   "execution_count": 8,
   "metadata": {},
   "outputs": [
    {
     "data": {
      "text/plain": [
       "tensor([-0.0012,  0.0109])"
      ]
     },
     "execution_count": 8,
     "metadata": {},
     "output_type": "execute_result"
    }
   ],
   "source": [
    "C[5]"
   ]
  },
  {
   "cell_type": "code",
   "execution_count": 9,
   "metadata": {},
   "outputs": [
    {
     "data": {
      "text/plain": [
       "tensor([-0.0012,  0.0109])"
      ]
     },
     "execution_count": 9,
     "metadata": {},
     "output_type": "execute_result"
    }
   ],
   "source": [
    "F.one_hot(torch.tensor(5), num_classes=27).float() @ C"
   ]
  },
  {
   "cell_type": "code",
   "execution_count": 10,
   "metadata": {},
   "outputs": [
    {
     "data": {
      "text/plain": [
       "tensor([0, 0, 0])"
      ]
     },
     "execution_count": 10,
     "metadata": {},
     "output_type": "execute_result"
    }
   ],
   "source": [
    "X[0]"
   ]
  },
  {
   "cell_type": "code",
   "execution_count": 11,
   "metadata": {},
   "outputs": [
    {
     "data": {
      "text/plain": [
       "tensor([[-1.7227,  0.3989],\n",
       "        [-1.7227,  0.3989],\n",
       "        [-1.7227,  0.3989]])"
      ]
     },
     "execution_count": 11,
     "metadata": {},
     "output_type": "execute_result"
    }
   ],
   "source": [
    "C[X[0]]"
   ]
  },
  {
   "cell_type": "code",
   "execution_count": 12,
   "metadata": {},
   "outputs": [
    {
     "data": {
      "text/plain": [
       "tensor([[[-1.7227e+00,  3.9892e-01],\n",
       "         [-1.7227e+00,  3.9892e-01],\n",
       "         [-1.7227e+00,  3.9892e-01]],\n",
       "\n",
       "        [[-1.7227e+00,  3.9892e-01],\n",
       "         [-1.7227e+00,  3.9892e-01],\n",
       "         [-1.2074e-03,  1.0873e-02]]])"
      ]
     },
     "execution_count": 12,
     "metadata": {},
     "output_type": "execute_result"
    }
   ],
   "source": [
    "C[X[0:2]]"
   ]
  },
  {
   "cell_type": "code",
   "execution_count": 13,
   "metadata": {},
   "outputs": [],
   "source": [
    "emb = C[X]"
   ]
  },
  {
   "cell_type": "code",
   "execution_count": 14,
   "metadata": {},
   "outputs": [],
   "source": [
    "W1 = torch.randn((6, 100))"
   ]
  },
  {
   "cell_type": "code",
   "execution_count": 15,
   "metadata": {},
   "outputs": [],
   "source": [
    "b1 = torch.randn(100)"
   ]
  },
  {
   "cell_type": "code",
   "execution_count": 16,
   "metadata": {},
   "outputs": [
    {
     "data": {
      "text/plain": [
       "torch.Size([228146, 6])"
      ]
     },
     "execution_count": 16,
     "metadata": {},
     "output_type": "execute_result"
    }
   ],
   "source": [
    "torch.cat([emb[:,0,:], emb[:,1,:], emb[:,2,:]], 1).shape"
   ]
  },
  {
   "cell_type": "code",
   "execution_count": 17,
   "metadata": {},
   "outputs": [
    {
     "data": {
      "text/plain": [
       "torch.Size([228146, 6])"
      ]
     },
     "execution_count": 17,
     "metadata": {},
     "output_type": "execute_result"
    }
   ],
   "source": [
    "torch.cat(torch.unbind(emb, dim=1), 1).shape"
   ]
  },
  {
   "cell_type": "code",
   "execution_count": 18,
   "metadata": {},
   "outputs": [],
   "source": [
    "a =torch.arange(18)"
   ]
  },
  {
   "cell_type": "code",
   "execution_count": 19,
   "metadata": {},
   "outputs": [
    {
     "data": {
      "text/plain": [
       "tensor([[ 0,  1,  2],\n",
       "        [ 3,  4,  5],\n",
       "        [ 6,  7,  8],\n",
       "        [ 9, 10, 11],\n",
       "        [12, 13, 14],\n",
       "        [15, 16, 17]])"
      ]
     },
     "execution_count": 19,
     "metadata": {},
     "output_type": "execute_result"
    }
   ],
   "source": [
    "a.view(6,3)"
   ]
  },
  {
   "cell_type": "code",
   "execution_count": 20,
   "metadata": {},
   "outputs": [
    {
     "name": "stderr",
     "output_type": "stream",
     "text": [
      "/var/folders/55/krymh2611jx50w2xfqbmf70h0000gn/T/ipykernel_40350/214256462.py:1: UserWarning: TypedStorage is deprecated. It will be removed in the future and UntypedStorage will be the only storage class. This should only matter to you if you are using storages directly.  To access UntypedStorage directly, use tensor.untyped_storage() instead of tensor.storage()\n",
      "  a.storage()\n"
     ]
    },
    {
     "data": {
      "text/plain": [
       " 0\n",
       " 1\n",
       " 2\n",
       " 3\n",
       " 4\n",
       " 5\n",
       " 6\n",
       " 7\n",
       " 8\n",
       " 9\n",
       " 10\n",
       " 11\n",
       " 12\n",
       " 13\n",
       " 14\n",
       " 15\n",
       " 16\n",
       " 17\n",
       "[torch.storage.TypedStorage(dtype=torch.int64, device=cpu) of size 18]"
      ]
     },
     "execution_count": 20,
     "metadata": {},
     "output_type": "execute_result"
    }
   ],
   "source": [
    "a.storage()"
   ]
  },
  {
   "cell_type": "code",
   "execution_count": 21,
   "metadata": {},
   "outputs": [],
   "source": [
    "h = torch.tanh(emb.view(emb.shape[0], emb.shape[1] * emb.shape[2]) @ W1 + b1)"
   ]
  },
  {
   "cell_type": "code",
   "execution_count": 22,
   "metadata": {},
   "outputs": [
    {
     "data": {
      "text/plain": [
       "torch.Size([228146, 100])"
      ]
     },
     "execution_count": 22,
     "metadata": {},
     "output_type": "execute_result"
    }
   ],
   "source": [
    "h.shape"
   ]
  },
  {
   "cell_type": "code",
   "execution_count": 23,
   "metadata": {},
   "outputs": [
    {
     "data": {
      "text/plain": [
       "torch.Size([100])"
      ]
     },
     "execution_count": 23,
     "metadata": {},
     "output_type": "execute_result"
    }
   ],
   "source": [
    "b1.shape"
   ]
  },
  {
   "cell_type": "code",
   "execution_count": 24,
   "metadata": {},
   "outputs": [],
   "source": [
    "# b1 will be copied to the 228146"
   ]
  },
  {
   "cell_type": "code",
   "execution_count": 25,
   "metadata": {},
   "outputs": [],
   "source": [
    "W2 = torch.randn((100, 27))\n",
    "b2 = torch.randn(27)"
   ]
  },
  {
   "cell_type": "code",
   "execution_count": 26,
   "metadata": {},
   "outputs": [],
   "source": [
    "logits = (h @ W2) + b2"
   ]
  },
  {
   "cell_type": "code",
   "execution_count": 27,
   "metadata": {},
   "outputs": [
    {
     "data": {
      "text/plain": [
       "torch.Size([228146, 27])"
      ]
     },
     "execution_count": 27,
     "metadata": {},
     "output_type": "execute_result"
    }
   ],
   "source": [
    "logits.shape"
   ]
  },
  {
   "cell_type": "code",
   "execution_count": 28,
   "metadata": {},
   "outputs": [],
   "source": [
    "counts = logits.exp()"
   ]
  },
  {
   "cell_type": "code",
   "execution_count": 29,
   "metadata": {},
   "outputs": [],
   "source": [
    "probs = counts / counts.sum(1, keepdim=True)"
   ]
  },
  {
   "cell_type": "code",
   "execution_count": 30,
   "metadata": {},
   "outputs": [
    {
     "data": {
      "text/plain": [
       "torch.Size([228146, 27])"
      ]
     },
     "execution_count": 30,
     "metadata": {},
     "output_type": "execute_result"
    }
   ],
   "source": [
    "probs.shape"
   ]
  },
  {
   "cell_type": "code",
   "execution_count": 31,
   "metadata": {},
   "outputs": [
    {
     "data": {
      "text/plain": [
       "tensor(1.0000)"
      ]
     },
     "execution_count": 31,
     "metadata": {},
     "output_type": "execute_result"
    }
   ],
   "source": [
    "probs[0].sum()"
   ]
  },
  {
   "cell_type": "code",
   "execution_count": 32,
   "metadata": {},
   "outputs": [
    {
     "data": {
      "text/plain": [
       "tensor([ 5, 13, 13,  ..., 26, 24,  0])"
      ]
     },
     "execution_count": 32,
     "metadata": {},
     "output_type": "execute_result"
    }
   ],
   "source": [
    "Y"
   ]
  },
  {
   "cell_type": "code",
   "execution_count": 33,
   "metadata": {},
   "outputs": [],
   "source": [
    "loss = -probs[torch.arange(probs.shape[0]),Y].log().mean()"
   ]
  },
  {
   "cell_type": "code",
   "execution_count": 34,
   "metadata": {},
   "outputs": [
    {
     "data": {
      "text/plain": [
       "tensor(16.2223)"
      ]
     },
     "execution_count": 34,
     "metadata": {},
     "output_type": "execute_result"
    }
   ],
   "source": [
    "loss"
   ]
  },
  {
   "cell_type": "code",
   "execution_count": 35,
   "metadata": {},
   "outputs": [
    {
     "data": {
      "text/plain": [
       "tensor(16.2223)"
      ]
     },
     "execution_count": 35,
     "metadata": {},
     "output_type": "execute_result"
    }
   ],
   "source": [
    "# reasons for cross entropy\n",
    "# forward pass is more efficent (fused kernels)\n",
    "# backward pass is more efficient (fused kernels)\n",
    "# much more numerically well behaved\n",
    "F.cross_entropy(logits, Y)"
   ]
  },
  {
   "cell_type": "code",
   "execution_count": 36,
   "metadata": {},
   "outputs": [
    {
     "data": {
      "text/plain": [
       "torch.Size([228146, 3, 2])"
      ]
     },
     "execution_count": 36,
     "metadata": {},
     "output_type": "execute_result"
    }
   ],
   "source": [
    "emb.shape"
   ]
  },
  {
   "cell_type": "code",
   "execution_count": 37,
   "metadata": {},
   "outputs": [
    {
     "data": {
      "text/plain": [
       "torch.Size([228146, 6])"
      ]
     },
     "execution_count": 37,
     "metadata": {},
     "output_type": "execute_result"
    }
   ],
   "source": [
    "emb.view(-1,6).shape"
   ]
  },
  {
   "cell_type": "markdown",
   "metadata": {},
   "source": [
    "### Putting all together"
   ]
  },
  {
   "cell_type": "markdown",
   "metadata": {},
   "source": [
    "### Finding a good learning rate\n",
    "To find a good learning rate we will try different learning rates, one per step and take the learning rate with minimum loss (Need to understand better why) "
   ]
  },
  {
   "cell_type": "code",
   "execution_count": 38,
   "metadata": {},
   "outputs": [],
   "source": [
    "g = torch.Generator().manual_seed(42)\n",
    "C = torch.randn((27, 2), generator=g)\n",
    "W1 = torch.randn((6, 100), generator=g)\n",
    "b1 =  torch.randn(100, generator=g)\n",
    "W2 = torch.randn((100,27), generator=g)\n",
    "b2 = torch.randn(27, generator=g)\n",
    "parameters=[C, W1, b1, W2, b2]"
   ]
  },
  {
   "cell_type": "code",
   "execution_count": 39,
   "metadata": {},
   "outputs": [],
   "source": [
    "learning_rates_exp = torch.linspace(-3,0,1000)\n",
    "learning_rates = 10 ** learning_rates_exp"
   ]
  },
  {
   "cell_type": "code",
   "execution_count": 40,
   "metadata": {},
   "outputs": [],
   "source": [
    "for p in parameters:\n",
    "    p.requires_grad=True\n",
    "\n",
    "losses = []\n",
    "used_learning_rates = []\n",
    "for i in range(1000):\n",
    "    # minibatch indices\n",
    "    mini_batch_indices = torch.randint(0, X.shape[0], (32,))\n",
    "    \n",
    "    emb = C[X[mini_batch_indices]]\n",
    "    Y_mini_batch = Y[mini_batch_indices]\n",
    "    \n",
    "    h = torch.tanh(emb.view(-1,6) @ W1 + b1) # size 228146, 100 \n",
    "    logits = h @ W2 + b2 # size 228146, 27\n",
    "    loss = F.cross_entropy(logits, Y_mini_batch)\n",
    "    losses.append(loss.item())\n",
    "    for p in parameters:\n",
    "        p.grad = None\n",
    "    loss.backward()\n",
    "    learning_rate = learning_rates[i]\n",
    "    used_learning_rates.append(learning_rates_exp[i].item())\n",
    "    for p in parameters:\n",
    "        p.data += -learning_rate * p.grad"
   ]
  },
  {
   "cell_type": "code",
   "execution_count": 41,
   "metadata": {},
   "outputs": [
    {
     "data": {
      "text/plain": [
       "[<matplotlib.lines.Line2D at 0x120a042c0>]"
      ]
     },
     "execution_count": 41,
     "metadata": {},
     "output_type": "execute_result"
    },
    {
     "data": {
      "image/png": "[encoded data removed]",
      "text/plain": [
       "<Figure size 640x480 with 1 Axes>"
      ]
     },
     "metadata": {},
     "output_type": "display_data"
    }
   ],
   "source": [
    "import matplotlib.pyplot as plt\n",
    "%matplotlib inline\n",
    "plt.plot(used_learning_rates, losses)"
   ]
  },
  {
   "cell_type": "code",
   "execution_count": 42,
   "metadata": {},
   "outputs": [
    {
     "name": "stdout",
     "output_type": "stream",
     "text": [
      "750\n"
     ]
    }
   ],
   "source": [
    "print(losses.index(min(losses)))"
   ]
  },
  {
   "cell_type": "code",
   "execution_count": 43,
   "metadata": {},
   "outputs": [
    {
     "name": "stdout",
     "output_type": "stream",
     "text": [
      "tensor(0.0946)\n"
     ]
    }
   ],
   "source": [
    "print(learning_rates[658])"
   ]
  },
  {
   "cell_type": "markdown",
   "metadata": {},
   "source": [
    "We notice here the learning rate with minimum loss is of 0.0946"
   ]
  },
  {
   "cell_type": "markdown",
   "metadata": {},
   "source": [
    "### Putting it all together\n",
    "We will build here a neural network using a generator with a seed for reproducibility\n",
    "\n",
    "The neural network will be:\n",
    "\n",
    "C - An embedding layer of dimension of 2. 27 is the number of parameters\n",
    "\n",
    "W1 - weight matrix part of the hidden layer - size 6 because we have 3 chars in input embedded as arrays of size 2 x 100\n",
    "\n",
    "b1 - bias\n",
    "\n",
    "activation function - tanh\n",
    "\n",
    "W2 - weight matrix part of the linear regression size 100x27\n",
    "\n",
    "b2 - bias vector\n",
    "\n",
    "softmax function to get probabilities per character\n",
    "\n",
    "cross entropy loss function"
   ]
  },
  {
   "cell_type": "code",
   "execution_count": 44,
   "metadata": {},
   "outputs": [],
   "source": [
    "g = torch.Generator().manual_seed(42)\n",
    "C = torch.randn((27, 2), generator=g)\n",
    "W1 = torch.randn((6, 100), generator=g)\n",
    "b1 =  torch.randn(100, generator=g)\n",
    "W2 = torch.randn((100,27), generator=g)\n",
    "b2 = torch.randn(27, generator=g)\n",
    "parameters=[C, W1, b1, W2, b2]"
   ]
  },
  {
   "cell_type": "code",
   "execution_count": 45,
   "metadata": {},
   "outputs": [],
   "source": [
    "for p in parameters:\n",
    "    p.requires_grad=True\n",
    "\n",
    "losses = []\n",
    "for i in range(10000):\n",
    "    # minibatch indices\n",
    "    mini_batch_indices = torch.randint(0, X.shape[0], (32,))\n",
    "    \n",
    "    emb = C[X[mini_batch_indices]]\n",
    "    Y_mini_batch = Y[mini_batch_indices]\n",
    "    \n",
    "    h = torch.tanh(emb.view(-1,6) @ W1 + b1) # size 228146, 100 \n",
    "    logits = h @ W2 + b2 # size 228146, 27\n",
    "    loss = F.cross_entropy(logits, Y_mini_batch)\n",
    "    losses.append(loss.item())\n",
    "    for p in parameters:\n",
    "        p.grad = None\n",
    "    loss.backward()\n",
    "    for p in parameters:\n",
    "        p.data += -0.0946 * p.grad"
   ]
  },
  {
   "cell_type": "code",
   "execution_count": 46,
   "metadata": {},
   "outputs": [
    {
     "name": "stdout",
     "output_type": "stream",
     "text": [
      "2.437371015548706\n"
     ]
    }
   ],
   "source": [
    "# Loss for the whole dataset\n",
    "emb = C[X]\n",
    "\n",
    "h = torch.tanh(emb.view(-1,6) @ W1 + b1) # size 228146, 100 \n",
    "logits = h @ W2 + b2 # size 228146, 27\n",
    "loss = F.cross_entropy(logits, Y)\n",
    "print(loss.item())"
   ]
  },
  {
   "cell_type": "markdown",
   "metadata": {},
   "source": [
    "### Split into training, test, validation\n",
    "We will split the dataset into training, validation and test set. We will use different parameters to train our models in the training set. The validation set will allow us to check the performance of each model and to select the best. The test set will allow us to confirm the performance of the selected model."
   ]
  },
  {
   "cell_type": "code",
   "execution_count": 47,
   "metadata": {},
   "outputs": [],
   "source": [
    "import torch\n",
    "import torch.nn.functional as F\n",
    "import random\n",
    "\n",
    "def __build_mapping_index_to_char(words: list) -> dict:\n",
    "    special_char = '.'\n",
    "    different_chars_in_dataset = sorted(list(set(''.join(words))))\n",
    "    mapping_char_to_index = {s:i+1 for i,s in enumerate(different_chars_in_dataset)}\n",
    "    mapping_char_to_index[special_char] = 0\n",
    "    mapping_index_to_char = {i:s for s,i in mapping_char_to_index.items()}\n",
    "    return mapping_index_to_char, mapping_char_to_index\n",
    "    \n",
    "\n",
    "def build_training_validation_test_sets(words: list, ratio_training_set: float, ratio_validation_set: float, ratio_test_set: float, block_size: int):\n",
    "    assert ratio_training_set + ratio_validation_set + ratio_test_set == 1.0\n",
    "    assert block_size > 0\n",
    "    \n",
    "    mapping_index_to_char = __build_mapping_index_to_char(words)\n",
    "    \n",
    "    random.seed(42)\n",
    "    random.shuffle(words)\n",
    "    \n",
    "    X, Y = [], []\n",
    "    for w in words:\n",
    "        context = [0] * block_size\n",
    "        for ch in w + '.':\n",
    "            index_ch = mapping_char_to_index[ch]\n",
    "            X.append(context)\n",
    "            Y.append(index_ch)\n",
    "            context = context[1:] + [index_ch]\n",
    "    \n",
    "    number_of_elements_in_training_set = int(len(X) * ratio_training_set)\n",
    "    number_of_elements_in_validation_set = int(len(X) * ratio_validation_set)\n",
    "    X_training, X_validation, X_test = torch.tensor_split(torch.tensor(X), (number_of_elements_in_training_set, number_of_elements_in_training_set + number_of_elements_in_validation_set), dim=0)\n",
    "    Y_training, Y_validation, Y_test = torch.tensor_split(torch.tensor(Y), (number_of_elements_in_training_set, number_of_elements_in_training_set + number_of_elements_in_validation_set), dim=0)\n",
    "    \n",
    "    return X_training, Y_training, X_validation, Y_validation, X_test, Y_test, mapping_index_to_char, mapping_char_to_index\n",
    "\n",
    "    "
   ]
  },
  {
   "cell_type": "code",
   "execution_count": 48,
   "metadata": {},
   "outputs": [],
   "source": [
    "X_training, Y_training, X_validation, Y_validation, X_test, Y_test, mapping_index_to_char, mapping_char_to_index = build_training_validation_test_sets(words, 0.8, 0.1, 0.1, 3)"
   ]
  },
  {
   "cell_type": "code",
   "execution_count": 78,
   "metadata": {},
   "outputs": [
    {
     "name": "stdout",
     "output_type": "stream",
     "text": [
      "2.3535635471343994\n"
     ]
    },
    {
     "data": {
      "text/plain": [
       "tensor(2.6607, grad_fn=<NllLossBackward0>)"
      ]
     },
     "execution_count": 78,
     "metadata": {},
     "output_type": "execute_result"
    }
   ],
   "source": [
    "class MultiLayerPerceptronNN:\n",
    "\n",
    "    def __init__(self, hidden_layer_size: int, number_of_steps: int, learning_rate: float, mini_batch_size: int, X_training: torch.tensor, Y_training: torch.tensor, X_validation: torch.tensor, Y_validation: torch.tensor, block_size: int, embeddings_size: int, mapping_index_to_char: dict[int, str], mapping_char_to_index: dict[str, int]):\n",
    "        self.hidden_layer_size = hidden_layer_size\n",
    "        g = torch.Generator().manual_seed(42) \n",
    "        self.block_size = block_size\n",
    "        self.embeddings_size = embeddings_size\n",
    "        self.C = torch.randn((27, 2), generator=g) # for now we dont change embeddings size\n",
    "        self.W1 = torch.randn((self.block_size * self.embeddings_size, hidden_layer_size), generator=g)\n",
    "        self.b1 =  torch.randn(hidden_layer_size, generator=g)\n",
    "        self.W2 = torch.randn((hidden_layer_size,27), generator=g)\n",
    "        self.b2 = torch.randn(27, generator=g)\n",
    "        self.number_of_steps = number_of_steps\n",
    "        self.learning_rate = learning_rate\n",
    "        self.trained = False\n",
    "        self.C.requires_grad = True\n",
    "        self.W1.requires_grad = True\n",
    "        self.b1.requires_grad = True\n",
    "        self.W2.requires_grad = True\n",
    "        self.b2.requires_grad = True\n",
    "        self.losses = []\n",
    "        self.mini_batch_size = mini_batch_size\n",
    "        self.X_training = X_training \n",
    "        self.Y_training = Y_training\n",
    "        self.X_validation = X_validation\n",
    "        self.Y_validation = Y_validation\n",
    "        self.mapping_index_to_char = mapping_index_to_char\n",
    "        self.mapping_char_to_index = mapping_char_to_index\n",
    "\n",
    "\n",
    "        \n",
    "    def train(self):\n",
    "        if not self.trained:\n",
    "            losses = []\n",
    "            for i in range(self.number_of_steps):\n",
    "                self.C.grad = None\n",
    "                self.W1.grad = None\n",
    "                self.b1.grad = None\n",
    "                self.W2.grad = None\n",
    "                self.b2.grad = None\n",
    "                # minibatch indices\n",
    "                mini_batch_indices = torch.randint(0, self.X_training.shape[0], (self.mini_batch_size,))\n",
    "    \n",
    "                emb = self.C[self.X_training[mini_batch_indices]]\n",
    "                Y_mini_batch = self.Y_training[mini_batch_indices]\n",
    "    \n",
    "                h = torch.tanh(emb.view(-1,self.block_size * self.embeddings_size) @ self.W1 + self.b1)\n",
    "                logits = h @ self.W2 + self.b2 \n",
    "                loss = F.cross_entropy(logits, Y_mini_batch)\n",
    "                self.losses.append(loss.item())\n",
    "                loss.backward()\n",
    "                self.C.data += -self.learning_rate * self.C.grad\n",
    "                self.W1.data += -self.learning_rate * self.W1.grad\n",
    "                self.b1.data += -self.learning_rate * self.b1.grad\n",
    "                self.W2.data += -self.learning_rate * self.W2.grad\n",
    "                self.b2.data += -self.learning_rate * self.b2.grad\n",
    "            self.trained = True\n",
    "        \n",
    "\n",
    "    def evaluate(self):\n",
    "        if self.trained:\n",
    "            emb = self.C[self.X_validation]\n",
    "            h = torch.tanh(emb.view(-1,6) @ W1 + b1)\n",
    "            logits = h @ W2 + b2 \n",
    "            loss = F.cross_entropy(logits, self.Y_validation)\n",
    "            return loss\n",
    "        else:\n",
    "            raise Exception(\"Model has to be trained before evaluated\") \n",
    "\n",
    "    def generate(self, beginning_of_name):\n",
    "        if self.trained:\n",
    "            generated_name_tokens = [0] * self.block_size\n",
    "            req_length = len(beginning_of_name)\n",
    "            current_index = max(0, self.block_size - req_length)\n",
    "            for ch in beginning_of_name:\n",
    "                if current_index >= block_size:\n",
    "                    generated_name_tokens.append(self.mapping_char_to_index[ch])\n",
    "                else: \n",
    "                    generated_name_tokens[current_index] = self.mapping_char_to_index[ch]\n",
    "                current_index += 1\n",
    "            generated_char_index = -1\n",
    "            while generated_char_index != 0:\n",
    "                print(generated_name_tokens)\n",
    "                emb = self.C[generated_name_tokens[-self.block_size:]]\n",
    "                h = torch.tanh(emb.view(-1,self.block_size * self.embeddings_size) @ self.W1 + self.b1)\n",
    "                logits = h @ self.W2 + self.b2\n",
    "                generated_char_index = logits.argmax().item()\n",
    "                print(generated_char_index)\n",
    "                generated_name_tokens.append(generated_char_index)\n",
    "            output = \"\"\n",
    "            for index in generated_name_tokens:\n",
    "                if index != 0:\n",
    "                    output = output + self.mapping_index_to_char[index]\n",
    "            return output\n",
    "        else:\n",
    "            raise Exception(\"Model has to be trained before generation\") \n",
    "\n",
    "mlp = MultiLayerPerceptronNN(hidden_layer_size=100, number_of_steps=10000, learning_rate=0.1, mini_batch_size=128, X_training=X_training, Y_training=Y_training, X_validation=X_validation, Y_validation=Y_validation, block_size=3, embeddings_size=2, mapping_index_to_char=mapping_index_to_char, mapping_char_to_index=mapping_char_to_index)\n",
    "mlp.train()\n",
    "print(mlp.losses[-1])\n",
    "mlp.evaluate()\n"
   ]
  },
  {
   "cell_type": "code",
   "execution_count": 83,
   "metadata": {},
   "outputs": [
    {
     "name": "stdout",
     "output_type": "stream",
     "text": [
      "[20, 9, 14, 1, 19]\n",
      "1\n",
      "[20, 9, 14, 1, 19, 1]\n",
      "0\n"
     ]
    },
    {
     "data": {
      "text/plain": [
       "'tinasa'"
      ]
     },
     "execution_count": 83,
     "metadata": {},
     "output_type": "execute_result"
    }
   ],
   "source": [
    "mlp.generate(\"tinas\")"
   ]
  },
  {
   "cell_type": "markdown",
   "metadata": {},
   "source": [
    "### Let's visualize the embeddings"
   ]
  },
  {
   "cell_type": "code",
   "execution_count": 54,
   "metadata": {},
   "outputs": [
    {
     "data": {
      "image/png": "[encoded data removed]",
      "text/plain": [
       "<Figure size 800x800 with 1 Axes>"
      ]
     },
     "metadata": {},
     "output_type": "display_data"
    }
   ],
   "source": [
    "plt.figure(figsize=(8,8))\n",
    "plt.scatter(mlp.C[:,0].data, mlp.C[:,1].data, s=200)\n",
    "for i in range(C.shape[0]):\n",
    "    plt.text(mlp.C[i,0].item(), mlp.C[i,1].item(), mapping_index_to_char[i], ha=\"center\", va=\"center\", color=\"white\")\n",
    "plt.grid(\"minor\")"
   ]
  },
  {
   "cell_type": "code",
   "execution_count": null,
   "metadata": {},
   "outputs": [],
   "source": []
  }
 ],
 "metadata": {
  "kernelspec": {
   "display_name": "Python 3 (ipykernel)",
   "language": "python",
   "name": "python3"
  },
  "language_info": {
   "codemirror_mode": {
    "name": "ipython",
    "version": 3
   },
   "file_extension": ".py",
   "mimetype": "text/x-python",
   "name": "python",
   "nbconvert_exporter": "python",
   "pygments_lexer": "ipython3",
   "version": "3.12.2"
  }
 },
 "nbformat": 4,
 "nbformat_minor": 4
}
